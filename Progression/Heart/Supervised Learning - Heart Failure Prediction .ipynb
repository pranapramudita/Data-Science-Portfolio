{
 "cells": [
  {
   "cell_type": "markdown",
   "id": "0f652a0a-1c42-47ea-8487-4735a68cd2ec",
   "metadata": {},
   "source": [
    "# Supervised Learning: Heart Failure Prediction (Kaggle Dataset)"
   ]
  },
  {
   "cell_type": "markdown",
   "id": "88a40457",
   "metadata": {},
   "source": [
    "<p align=\"center\">\n",
    "  <img width=800 src=\"https://heart-failure.net/wp-content/uploads/2020/10/HF-living-ejection-fraction-differences.jpg\"/>\n",
    "</p>"
   ]
  },
  {
   "cell_type": "markdown",
   "id": "4b7d5184-3a44-4e90-9556-56b225d4a6c8",
   "metadata": {},
   "source": [
    "**Context**\n",
    "\n",
    "Cardiovascular diseases (CVDs) are the number 1 cause of death globally, taking an estimated 17.9 million lives each year, which accounts for 31% of all deaths worldwide. Four out of 5CVD deaths are due to heart attacks and strokes, and one-third of these deaths occur prematurely in people under 70 years of age. Heart failure is a common event caused by CVDs and this dataset contains 11 features that can be used to predict a possible heart disease.\n",
    "\n",
    "People with cardiovascular disease or who are at high cardiovascular risk (due to the presence of one or more risk factors such as hypertension, diabetes, hyperlipidaemia or already established disease) need early detection and management wherein a machine learning model can be of great help.\n",
    "\n",
    "**Attribute Information**\n",
    "\n",
    "1. **Age**: age of the patient [years]\n",
    "1. **Sex**: sex of the patient [M: Male, F: Female]\n",
    "1. **ChestPainType**: chest pain type [TA: Typical Angina, ATA: Atypical Angina, NAP: Non-Anginal Pain, ASY: Asymptomatic]\n",
    "1. **RestingBP**: resting blood pressure [mm Hg]\n",
    "1. **Cholesterol**: serum cholesterol [mm/dl]\n",
    "1. **FastingBS**: fasting blood sugar [1: if FastingBS > 120 mg/dl, 0: otherwise]\n",
    "1. **RestingECG**: resting electrocardiogram results [Normal: Normal, ST: having ST-T wave abnormality (T wave inversions and/or ST elevation or depression of > 0.05 mV), LVH: showing probable or definite left ventricular hypertrophy by Estes' criteria]\n",
    "1. **MaxHR**: maximum heart rate achieved [Numeric value between 60 and 202]\n",
    "1. **ExerciseAngina**: exercise-induced angina [Y: Yes, N: No]\n",
    "1. **Oldpeak**: oldpeak = ST [Numeric value measured in depression]\n",
    "1. **ST_Slope**: the slope of the peak exercise ST segment [Up: upsloping, Flat: flat, Down: downsloping]\n",
    "1. **HeartDisease**: output class [1: heart disease, 0: Normal]"
   ]
  },
  {
   "cell_type": "markdown",
   "id": "9d2ce8b2-592f-466d-900e-05b96405237e",
   "metadata": {},
   "source": [
    "## Import Libraries and Dataset"
   ]
  },
  {
   "cell_type": "code",
   "execution_count": 211,
   "id": "837d4ff5-4d6e-4a65-8e4b-69abc406edcb",
   "metadata": {
    "collapsed": true
   },
   "outputs": [],
   "source": [
    "import pandas as pd\n",
    "import numpy as np\n",
    "\n",
    "%matplotlib inline\n",
    "import matplotlib.pyplot as plt\n",
    "import seaborn as sns\n",
    "\n",
    "from sklearn.preprocessing import StandardScaler\n",
    "from sklearn.model_selection import train_test_split\n",
    "from sklearn.metrics import accuracy_score\n",
    "from sklearn.metrics import classification_report\n",
    "\n",
    "from statsmodels.api import OLS\n",
    "from sklearn.naive_bayes import GaussianNB\n",
    "from sklearn.neighbors import KNeighborsClassifier\n",
    "from sklearn.tree import DecisionTreeClassifier\n",
    "from sklearn import svm\n",
    "from sklearn.ensemble import AdaBoostClassifier\n",
    "from sklearn.ensemble import GradientBoostingClassifier"
   ]
  },
  {
   "cell_type": "code",
   "execution_count": 107,
   "id": "2cc1fe51-1781-4753-bcc0-18774178344e",
   "metadata": {},
   "outputs": [
    {
     "data": {
      "text/html": [
       "<div>\n",
       "<style scoped>\n",
       "    .dataframe tbody tr th:only-of-type {\n",
       "        vertical-align: middle;\n",
       "    }\n",
       "\n",
       "    .dataframe tbody tr th {\n",
       "        vertical-align: top;\n",
       "    }\n",
       "\n",
       "    .dataframe thead th {\n",
       "        text-align: right;\n",
       "    }\n",
       "</style>\n",
       "<table border=\"1\" class=\"dataframe\">\n",
       "  <thead>\n",
       "    <tr style=\"text-align: right;\">\n",
       "      <th></th>\n",
       "      <th>Age</th>\n",
       "      <th>Sex</th>\n",
       "      <th>ChestPainType</th>\n",
       "      <th>RestingBP</th>\n",
       "      <th>Cholesterol</th>\n",
       "      <th>FastingBS</th>\n",
       "      <th>RestingECG</th>\n",
       "      <th>MaxHR</th>\n",
       "      <th>ExerciseAngina</th>\n",
       "      <th>Oldpeak</th>\n",
       "      <th>ST_Slope</th>\n",
       "      <th>HeartDisease</th>\n",
       "    </tr>\n",
       "  </thead>\n",
       "  <tbody>\n",
       "    <tr>\n",
       "      <th>0</th>\n",
       "      <td>40</td>\n",
       "      <td>M</td>\n",
       "      <td>ATA</td>\n",
       "      <td>140</td>\n",
       "      <td>289</td>\n",
       "      <td>0</td>\n",
       "      <td>Normal</td>\n",
       "      <td>172</td>\n",
       "      <td>N</td>\n",
       "      <td>0.0</td>\n",
       "      <td>Up</td>\n",
       "      <td>0</td>\n",
       "    </tr>\n",
       "    <tr>\n",
       "      <th>1</th>\n",
       "      <td>49</td>\n",
       "      <td>F</td>\n",
       "      <td>NAP</td>\n",
       "      <td>160</td>\n",
       "      <td>180</td>\n",
       "      <td>0</td>\n",
       "      <td>Normal</td>\n",
       "      <td>156</td>\n",
       "      <td>N</td>\n",
       "      <td>1.0</td>\n",
       "      <td>Flat</td>\n",
       "      <td>1</td>\n",
       "    </tr>\n",
       "    <tr>\n",
       "      <th>2</th>\n",
       "      <td>37</td>\n",
       "      <td>M</td>\n",
       "      <td>ATA</td>\n",
       "      <td>130</td>\n",
       "      <td>283</td>\n",
       "      <td>0</td>\n",
       "      <td>ST</td>\n",
       "      <td>98</td>\n",
       "      <td>N</td>\n",
       "      <td>0.0</td>\n",
       "      <td>Up</td>\n",
       "      <td>0</td>\n",
       "    </tr>\n",
       "    <tr>\n",
       "      <th>3</th>\n",
       "      <td>48</td>\n",
       "      <td>F</td>\n",
       "      <td>ASY</td>\n",
       "      <td>138</td>\n",
       "      <td>214</td>\n",
       "      <td>0</td>\n",
       "      <td>Normal</td>\n",
       "      <td>108</td>\n",
       "      <td>Y</td>\n",
       "      <td>1.5</td>\n",
       "      <td>Flat</td>\n",
       "      <td>1</td>\n",
       "    </tr>\n",
       "    <tr>\n",
       "      <th>4</th>\n",
       "      <td>54</td>\n",
       "      <td>M</td>\n",
       "      <td>NAP</td>\n",
       "      <td>150</td>\n",
       "      <td>195</td>\n",
       "      <td>0</td>\n",
       "      <td>Normal</td>\n",
       "      <td>122</td>\n",
       "      <td>N</td>\n",
       "      <td>0.0</td>\n",
       "      <td>Up</td>\n",
       "      <td>0</td>\n",
       "    </tr>\n",
       "  </tbody>\n",
       "</table>\n",
       "</div>"
      ],
      "text/plain": [
       "   Age Sex ChestPainType  RestingBP  Cholesterol  FastingBS RestingECG  MaxHR  \\\n",
       "0   40   M           ATA        140          289          0     Normal    172   \n",
       "1   49   F           NAP        160          180          0     Normal    156   \n",
       "2   37   M           ATA        130          283          0         ST     98   \n",
       "3   48   F           ASY        138          214          0     Normal    108   \n",
       "4   54   M           NAP        150          195          0     Normal    122   \n",
       "\n",
       "  ExerciseAngina  Oldpeak ST_Slope  HeartDisease  \n",
       "0              N      0.0       Up             0  \n",
       "1              N      1.0     Flat             1  \n",
       "2              N      0.0       Up             0  \n",
       "3              Y      1.5     Flat             1  \n",
       "4              N      0.0       Up             0  "
      ]
     },
     "execution_count": 107,
     "metadata": {},
     "output_type": "execute_result"
    }
   ],
   "source": [
    "df_ori = pd.read_csv('heart.csv')\n",
    "df = df_ori.copy()\n",
    "df.head()"
   ]
  },
  {
   "cell_type": "code",
   "execution_count": 108,
   "id": "9ab2d670-f9b6-4ea2-940a-275f107fe79a",
   "metadata": {},
   "outputs": [
    {
     "name": "stdout",
     "output_type": "stream",
     "text": [
      "Shape of the dataset is: (918, 12)\n"
     ]
    }
   ],
   "source": [
    "print('Shape of the dataset is:',df.shape)"
   ]
  },
  {
   "cell_type": "markdown",
   "id": "d66c573a-1592-4093-97fa-ce0e9cd15078",
   "metadata": {},
   "source": [
    "## Exploratory Data Analysis"
   ]
  },
  {
   "cell_type": "code",
   "execution_count": 109,
   "id": "1da681fb-d141-419c-a77a-1f07b4a8350c",
   "metadata": {},
   "outputs": [
    {
     "name": "stdout",
     "output_type": "stream",
     "text": [
      "Numerical Columns  : Index(['Age', 'RestingBP', 'Cholesterol', 'MaxHR', 'Oldpeak'], dtype='object')\n",
      "Categorical Columns: Index(['FastingBS', 'ExerciseAngina', 'ChestPainType', 'RestingECG',\n",
      "       'ST_Slope', 'Sex'],\n",
      "      dtype='object')\n"
     ]
    }
   ],
   "source": [
    "numerical = df.drop(columns=['HeartDisease','FastingBS']).select_dtypes('number').columns\n",
    "categorical = set(df.drop(columns=['HeartDisease']).columns)-set(numerical)\n",
    "print('Numerical Columns  :',df[numerical].columns)\n",
    "print('Categorical Columns:',df[categorical].columns) "
   ]
  },
  {
   "cell_type": "code",
   "execution_count": 212,
   "id": "e04f8f82",
   "metadata": {},
   "outputs": [
    {
     "data": {
      "text/html": [
       "<div>\n",
       "<style scoped>\n",
       "    .dataframe tbody tr th:only-of-type {\n",
       "        vertical-align: middle;\n",
       "    }\n",
       "\n",
       "    .dataframe tbody tr th {\n",
       "        vertical-align: top;\n",
       "    }\n",
       "\n",
       "    .dataframe thead th {\n",
       "        text-align: right;\n",
       "    }\n",
       "</style>\n",
       "<table border=\"1\" class=\"dataframe\">\n",
       "  <thead>\n",
       "    <tr style=\"text-align: right;\">\n",
       "      <th></th>\n",
       "      <th>Age</th>\n",
       "      <th>RestingBP</th>\n",
       "      <th>Cholesterol</th>\n",
       "      <th>MaxHR</th>\n",
       "      <th>Oldpeak</th>\n",
       "    </tr>\n",
       "  </thead>\n",
       "  <tbody>\n",
       "    <tr>\n",
       "      <th>count</th>\n",
       "      <td>918.000000</td>\n",
       "      <td>918.000000</td>\n",
       "      <td>918.000000</td>\n",
       "      <td>918.000000</td>\n",
       "      <td>918.000000</td>\n",
       "    </tr>\n",
       "    <tr>\n",
       "      <th>mean</th>\n",
       "      <td>53.510893</td>\n",
       "      <td>132.396514</td>\n",
       "      <td>198.799564</td>\n",
       "      <td>136.809368</td>\n",
       "      <td>0.887364</td>\n",
       "    </tr>\n",
       "    <tr>\n",
       "      <th>std</th>\n",
       "      <td>9.432617</td>\n",
       "      <td>18.514154</td>\n",
       "      <td>109.384145</td>\n",
       "      <td>25.460334</td>\n",
       "      <td>1.066570</td>\n",
       "    </tr>\n",
       "    <tr>\n",
       "      <th>min</th>\n",
       "      <td>28.000000</td>\n",
       "      <td>0.000000</td>\n",
       "      <td>0.000000</td>\n",
       "      <td>60.000000</td>\n",
       "      <td>-2.600000</td>\n",
       "    </tr>\n",
       "    <tr>\n",
       "      <th>25%</th>\n",
       "      <td>47.000000</td>\n",
       "      <td>120.000000</td>\n",
       "      <td>173.250000</td>\n",
       "      <td>120.000000</td>\n",
       "      <td>0.000000</td>\n",
       "    </tr>\n",
       "    <tr>\n",
       "      <th>50%</th>\n",
       "      <td>54.000000</td>\n",
       "      <td>130.000000</td>\n",
       "      <td>223.000000</td>\n",
       "      <td>138.000000</td>\n",
       "      <td>0.600000</td>\n",
       "    </tr>\n",
       "    <tr>\n",
       "      <th>75%</th>\n",
       "      <td>60.000000</td>\n",
       "      <td>140.000000</td>\n",
       "      <td>267.000000</td>\n",
       "      <td>156.000000</td>\n",
       "      <td>1.500000</td>\n",
       "    </tr>\n",
       "    <tr>\n",
       "      <th>max</th>\n",
       "      <td>77.000000</td>\n",
       "      <td>200.000000</td>\n",
       "      <td>603.000000</td>\n",
       "      <td>202.000000</td>\n",
       "      <td>6.200000</td>\n",
       "    </tr>\n",
       "  </tbody>\n",
       "</table>\n",
       "</div>"
      ],
      "text/plain": [
       "              Age   RestingBP  Cholesterol       MaxHR     Oldpeak\n",
       "count  918.000000  918.000000   918.000000  918.000000  918.000000\n",
       "mean    53.510893  132.396514   198.799564  136.809368    0.887364\n",
       "std      9.432617   18.514154   109.384145   25.460334    1.066570\n",
       "min     28.000000    0.000000     0.000000   60.000000   -2.600000\n",
       "25%     47.000000  120.000000   173.250000  120.000000    0.000000\n",
       "50%     54.000000  130.000000   223.000000  138.000000    0.600000\n",
       "75%     60.000000  140.000000   267.000000  156.000000    1.500000\n",
       "max     77.000000  200.000000   603.000000  202.000000    6.200000"
      ]
     },
     "execution_count": 212,
     "metadata": {},
     "output_type": "execute_result"
    }
   ],
   "source": [
    "df[numerical].describe()"
   ]
  },
  {
   "cell_type": "code",
   "execution_count": 110,
   "id": "e9b9f0f3-9471-4eca-824f-75bea382a132",
   "metadata": {},
   "outputs": [
    {
     "data": {
      "text/html": [
       "<div>\n",
       "<style scoped>\n",
       "    .dataframe tbody tr th:only-of-type {\n",
       "        vertical-align: middle;\n",
       "    }\n",
       "\n",
       "    .dataframe tbody tr th {\n",
       "        vertical-align: top;\n",
       "    }\n",
       "\n",
       "    .dataframe thead th {\n",
       "        text-align: right;\n",
       "    }\n",
       "</style>\n",
       "<table border=\"1\" class=\"dataframe\">\n",
       "  <thead>\n",
       "    <tr style=\"text-align: right;\">\n",
       "      <th></th>\n",
       "      <th>FastingBS</th>\n",
       "    </tr>\n",
       "  </thead>\n",
       "  <tbody>\n",
       "    <tr>\n",
       "      <th>0</th>\n",
       "      <td>704</td>\n",
       "    </tr>\n",
       "    <tr>\n",
       "      <th>1</th>\n",
       "      <td>214</td>\n",
       "    </tr>\n",
       "  </tbody>\n",
       "</table>\n",
       "</div>"
      ],
      "text/plain": [
       "   FastingBS\n",
       "0        704\n",
       "1        214"
      ]
     },
     "metadata": {},
     "output_type": "display_data"
    },
    {
     "data": {
      "text/html": [
       "<div>\n",
       "<style scoped>\n",
       "    .dataframe tbody tr th:only-of-type {\n",
       "        vertical-align: middle;\n",
       "    }\n",
       "\n",
       "    .dataframe tbody tr th {\n",
       "        vertical-align: top;\n",
       "    }\n",
       "\n",
       "    .dataframe thead th {\n",
       "        text-align: right;\n",
       "    }\n",
       "</style>\n",
       "<table border=\"1\" class=\"dataframe\">\n",
       "  <thead>\n",
       "    <tr style=\"text-align: right;\">\n",
       "      <th></th>\n",
       "      <th>ExerciseAngina</th>\n",
       "    </tr>\n",
       "  </thead>\n",
       "  <tbody>\n",
       "    <tr>\n",
       "      <th>N</th>\n",
       "      <td>547</td>\n",
       "    </tr>\n",
       "    <tr>\n",
       "      <th>Y</th>\n",
       "      <td>371</td>\n",
       "    </tr>\n",
       "  </tbody>\n",
       "</table>\n",
       "</div>"
      ],
      "text/plain": [
       "   ExerciseAngina\n",
       "N             547\n",
       "Y             371"
      ]
     },
     "metadata": {},
     "output_type": "display_data"
    },
    {
     "data": {
      "text/html": [
       "<div>\n",
       "<style scoped>\n",
       "    .dataframe tbody tr th:only-of-type {\n",
       "        vertical-align: middle;\n",
       "    }\n",
       "\n",
       "    .dataframe tbody tr th {\n",
       "        vertical-align: top;\n",
       "    }\n",
       "\n",
       "    .dataframe thead th {\n",
       "        text-align: right;\n",
       "    }\n",
       "</style>\n",
       "<table border=\"1\" class=\"dataframe\">\n",
       "  <thead>\n",
       "    <tr style=\"text-align: right;\">\n",
       "      <th></th>\n",
       "      <th>ChestPainType</th>\n",
       "    </tr>\n",
       "  </thead>\n",
       "  <tbody>\n",
       "    <tr>\n",
       "      <th>ASY</th>\n",
       "      <td>496</td>\n",
       "    </tr>\n",
       "    <tr>\n",
       "      <th>NAP</th>\n",
       "      <td>203</td>\n",
       "    </tr>\n",
       "    <tr>\n",
       "      <th>ATA</th>\n",
       "      <td>173</td>\n",
       "    </tr>\n",
       "    <tr>\n",
       "      <th>TA</th>\n",
       "      <td>46</td>\n",
       "    </tr>\n",
       "  </tbody>\n",
       "</table>\n",
       "</div>"
      ],
      "text/plain": [
       "     ChestPainType\n",
       "ASY            496\n",
       "NAP            203\n",
       "ATA            173\n",
       "TA              46"
      ]
     },
     "metadata": {},
     "output_type": "display_data"
    },
    {
     "data": {
      "text/html": [
       "<div>\n",
       "<style scoped>\n",
       "    .dataframe tbody tr th:only-of-type {\n",
       "        vertical-align: middle;\n",
       "    }\n",
       "\n",
       "    .dataframe tbody tr th {\n",
       "        vertical-align: top;\n",
       "    }\n",
       "\n",
       "    .dataframe thead th {\n",
       "        text-align: right;\n",
       "    }\n",
       "</style>\n",
       "<table border=\"1\" class=\"dataframe\">\n",
       "  <thead>\n",
       "    <tr style=\"text-align: right;\">\n",
       "      <th></th>\n",
       "      <th>RestingECG</th>\n",
       "    </tr>\n",
       "  </thead>\n",
       "  <tbody>\n",
       "    <tr>\n",
       "      <th>Normal</th>\n",
       "      <td>552</td>\n",
       "    </tr>\n",
       "    <tr>\n",
       "      <th>LVH</th>\n",
       "      <td>188</td>\n",
       "    </tr>\n",
       "    <tr>\n",
       "      <th>ST</th>\n",
       "      <td>178</td>\n",
       "    </tr>\n",
       "  </tbody>\n",
       "</table>\n",
       "</div>"
      ],
      "text/plain": [
       "        RestingECG\n",
       "Normal         552\n",
       "LVH            188\n",
       "ST             178"
      ]
     },
     "metadata": {},
     "output_type": "display_data"
    },
    {
     "data": {
      "text/html": [
       "<div>\n",
       "<style scoped>\n",
       "    .dataframe tbody tr th:only-of-type {\n",
       "        vertical-align: middle;\n",
       "    }\n",
       "\n",
       "    .dataframe tbody tr th {\n",
       "        vertical-align: top;\n",
       "    }\n",
       "\n",
       "    .dataframe thead th {\n",
       "        text-align: right;\n",
       "    }\n",
       "</style>\n",
       "<table border=\"1\" class=\"dataframe\">\n",
       "  <thead>\n",
       "    <tr style=\"text-align: right;\">\n",
       "      <th></th>\n",
       "      <th>ST_Slope</th>\n",
       "    </tr>\n",
       "  </thead>\n",
       "  <tbody>\n",
       "    <tr>\n",
       "      <th>Flat</th>\n",
       "      <td>460</td>\n",
       "    </tr>\n",
       "    <tr>\n",
       "      <th>Up</th>\n",
       "      <td>395</td>\n",
       "    </tr>\n",
       "    <tr>\n",
       "      <th>Down</th>\n",
       "      <td>63</td>\n",
       "    </tr>\n",
       "  </tbody>\n",
       "</table>\n",
       "</div>"
      ],
      "text/plain": [
       "      ST_Slope\n",
       "Flat       460\n",
       "Up         395\n",
       "Down        63"
      ]
     },
     "metadata": {},
     "output_type": "display_data"
    },
    {
     "data": {
      "text/html": [
       "<div>\n",
       "<style scoped>\n",
       "    .dataframe tbody tr th:only-of-type {\n",
       "        vertical-align: middle;\n",
       "    }\n",
       "\n",
       "    .dataframe tbody tr th {\n",
       "        vertical-align: top;\n",
       "    }\n",
       "\n",
       "    .dataframe thead th {\n",
       "        text-align: right;\n",
       "    }\n",
       "</style>\n",
       "<table border=\"1\" class=\"dataframe\">\n",
       "  <thead>\n",
       "    <tr style=\"text-align: right;\">\n",
       "      <th></th>\n",
       "      <th>Sex</th>\n",
       "    </tr>\n",
       "  </thead>\n",
       "  <tbody>\n",
       "    <tr>\n",
       "      <th>M</th>\n",
       "      <td>725</td>\n",
       "    </tr>\n",
       "    <tr>\n",
       "      <th>F</th>\n",
       "      <td>193</td>\n",
       "    </tr>\n",
       "  </tbody>\n",
       "</table>\n",
       "</div>"
      ],
      "text/plain": [
       "   Sex\n",
       "M  725\n",
       "F  193"
      ]
     },
     "metadata": {},
     "output_type": "display_data"
    }
   ],
   "source": [
    "for i in categorical:\n",
    "    display(pd.DataFrame(df[i].value_counts()))"
   ]
  },
  {
   "cell_type": "code",
   "execution_count": 111,
   "id": "42748664-971d-4594-9966-9a79d8a15228",
   "metadata": {},
   "outputs": [
    {
     "data": {
      "text/plain": [
       "Index(['Age', 'Sex', 'ChestPainType', 'RestingBP', 'Cholesterol', 'FastingBS',\n",
       "       'RestingECG', 'MaxHR', 'ExerciseAngina', 'Oldpeak', 'ST_Slope',\n",
       "       'HeartDisease'],\n",
       "      dtype='object')"
      ]
     },
     "execution_count": 111,
     "metadata": {},
     "output_type": "execute_result"
    }
   ],
   "source": [
    "df.columns"
   ]
  },
  {
   "cell_type": "code",
   "execution_count": 112,
   "id": "6f2bb481-95cf-4154-b287-78deb3408a86",
   "metadata": {},
   "outputs": [
    {
     "name": "stdout",
     "output_type": "stream",
     "text": [
      "{'FastingBS', 'ExerciseAngina', 'ChestPainType', 'RestingECG', 'ST_Slope', 'Sex'}\n"
     ]
    }
   ],
   "source": [
    "print(categorical)"
   ]
  },
  {
   "cell_type": "code",
   "execution_count": 113,
   "id": "42ebc53b-cc8c-4143-b18b-3c3c82495cce",
   "metadata": {},
   "outputs": [
    {
     "data": {
      "image/png": "[encoded data removed]",
      "text/plain": [
       "<Figure size 1080x720 with 9 Axes>"
      ]
     },
     "metadata": {
      "needs_background": "light"
     },
     "output_type": "display_data"
    }
   ],
   "source": [
    "f, axes = plt.subplots(3, 3, figsize=(15, 10))\n",
    "\n",
    "sns.countplot(x = df['HeartDisease'], data = df, palette='rocket', ax=axes[0,0])\n",
    "sns.countplot(x = df['ChestPainType'], data = df, palette='rocket', ax=axes[0,1])\n",
    "sns.countplot(x = df['ExerciseAngina'], data = df, palette='rocket', ax=axes[0,2])\n",
    "\n",
    "sns.countplot(x = df['FastingBS'], data = df, palette='rocket', ax=axes[1,0])\n",
    "sns.countplot(x = df['RestingECG'], data = df, palette='rocket', ax=axes[1,1])\n",
    "sns.countplot(x = df['ST_Slope'], data = df, palette='rocket', ax=axes[1,2])\n",
    "\n",
    "sns.countplot(x = df['Sex'], data = df, palette='rocket', ax=axes[2,1])\n",
    "plt.show()"
   ]
  },
  {
   "cell_type": "code",
   "execution_count": null,
   "id": "a1ea1873-eda3-42d8-9f59-6f0de49c8b55",
   "metadata": {},
   "outputs": [],
   "source": []
  },
  {
   "cell_type": "code",
   "execution_count": null,
   "id": "7aff7d07-11a8-4543-9c23-a672bdba34dc",
   "metadata": {},
   "outputs": [],
   "source": []
  },
  {
   "cell_type": "code",
   "execution_count": null,
   "id": "5882e3c4-5962-4c51-b669-ef5b733abfe2",
   "metadata": {},
   "outputs": [],
   "source": []
  },
  {
   "cell_type": "code",
   "execution_count": null,
   "id": "edb92aa9-0c89-4a68-9627-078ceaf5e5e7",
   "metadata": {},
   "outputs": [],
   "source": []
  },
  {
   "cell_type": "markdown",
   "id": "d9218770-0a74-4361-ab06-342421e786f7",
   "metadata": {},
   "source": [
    "## Data Cleansing"
   ]
  },
  {
   "cell_type": "code",
   "execution_count": 114,
   "id": "28375b6a-ecc0-4c58-81e9-b31515fff9c1",
   "metadata": {},
   "outputs": [
    {
     "data": {
      "text/html": [
       "<div>\n",
       "<style scoped>\n",
       "    .dataframe tbody tr th:only-of-type {\n",
       "        vertical-align: middle;\n",
       "    }\n",
       "\n",
       "    .dataframe tbody tr th {\n",
       "        vertical-align: top;\n",
       "    }\n",
       "\n",
       "    .dataframe thead th {\n",
       "        text-align: right;\n",
       "    }\n",
       "</style>\n",
       "<table border=\"1\" class=\"dataframe\">\n",
       "  <thead>\n",
       "    <tr style=\"text-align: right;\">\n",
       "      <th></th>\n",
       "      <th>column</th>\n",
       "      <th>type</th>\n",
       "      <th>nan</th>\n",
       "      <th>nan%</th>\n",
       "      <th>nunique</th>\n",
       "      <th>unique</th>\n",
       "    </tr>\n",
       "  </thead>\n",
       "  <tbody>\n",
       "    <tr>\n",
       "      <th>0</th>\n",
       "      <td>Age</td>\n",
       "      <td>int64</td>\n",
       "      <td>0</td>\n",
       "      <td>0.0</td>\n",
       "      <td>50</td>\n",
       "      <td>[40, 49, 37, 48, 54, 39, 45, 58, 42, 38, 43, 6...</td>\n",
       "    </tr>\n",
       "    <tr>\n",
       "      <th>1</th>\n",
       "      <td>Sex</td>\n",
       "      <td>object</td>\n",
       "      <td>0</td>\n",
       "      <td>0.0</td>\n",
       "      <td>2</td>\n",
       "      <td>[M, F]</td>\n",
       "    </tr>\n",
       "    <tr>\n",
       "      <th>2</th>\n",
       "      <td>ChestPainType</td>\n",
       "      <td>object</td>\n",
       "      <td>0</td>\n",
       "      <td>0.0</td>\n",
       "      <td>4</td>\n",
       "      <td>[ATA, NAP, ASY, TA]</td>\n",
       "    </tr>\n",
       "    <tr>\n",
       "      <th>3</th>\n",
       "      <td>RestingBP</td>\n",
       "      <td>int64</td>\n",
       "      <td>0</td>\n",
       "      <td>0.0</td>\n",
       "      <td>67</td>\n",
       "      <td>[140, 160, 130, 138, 150, 120, 110, 136, 115, ...</td>\n",
       "    </tr>\n",
       "    <tr>\n",
       "      <th>4</th>\n",
       "      <td>Cholesterol</td>\n",
       "      <td>int64</td>\n",
       "      <td>0</td>\n",
       "      <td>0.0</td>\n",
       "      <td>222</td>\n",
       "      <td>[289, 180, 283, 214, 195, 339, 237, 208, 207, ...</td>\n",
       "    </tr>\n",
       "    <tr>\n",
       "      <th>5</th>\n",
       "      <td>FastingBS</td>\n",
       "      <td>int64</td>\n",
       "      <td>0</td>\n",
       "      <td>0.0</td>\n",
       "      <td>2</td>\n",
       "      <td>[0, 1]</td>\n",
       "    </tr>\n",
       "    <tr>\n",
       "      <th>6</th>\n",
       "      <td>RestingECG</td>\n",
       "      <td>object</td>\n",
       "      <td>0</td>\n",
       "      <td>0.0</td>\n",
       "      <td>3</td>\n",
       "      <td>[Normal, ST, LVH]</td>\n",
       "    </tr>\n",
       "    <tr>\n",
       "      <th>7</th>\n",
       "      <td>MaxHR</td>\n",
       "      <td>int64</td>\n",
       "      <td>0</td>\n",
       "      <td>0.0</td>\n",
       "      <td>119</td>\n",
       "      <td>[172, 156, 98, 108, 122, 170, 142, 130, 120, 9...</td>\n",
       "    </tr>\n",
       "    <tr>\n",
       "      <th>8</th>\n",
       "      <td>ExerciseAngina</td>\n",
       "      <td>object</td>\n",
       "      <td>0</td>\n",
       "      <td>0.0</td>\n",
       "      <td>2</td>\n",
       "      <td>[N, Y]</td>\n",
       "    </tr>\n",
       "    <tr>\n",
       "      <th>9</th>\n",
       "      <td>Oldpeak</td>\n",
       "      <td>float64</td>\n",
       "      <td>0</td>\n",
       "      <td>0.0</td>\n",
       "      <td>53</td>\n",
       "      <td>[0.0, 1.0, 1.5, 2.0, 3.0, 4.0, 0.5, 2.5, 5.0, ...</td>\n",
       "    </tr>\n",
       "    <tr>\n",
       "      <th>10</th>\n",
       "      <td>ST_Slope</td>\n",
       "      <td>object</td>\n",
       "      <td>0</td>\n",
       "      <td>0.0</td>\n",
       "      <td>3</td>\n",
       "      <td>[Up, Flat, Down]</td>\n",
       "    </tr>\n",
       "    <tr>\n",
       "      <th>11</th>\n",
       "      <td>HeartDisease</td>\n",
       "      <td>int64</td>\n",
       "      <td>0</td>\n",
       "      <td>0.0</td>\n",
       "      <td>2</td>\n",
       "      <td>[0, 1]</td>\n",
       "    </tr>\n",
       "  </tbody>\n",
       "</table>\n",
       "</div>"
      ],
      "text/plain": [
       "            column     type  nan  nan%  nunique  \\\n",
       "0              Age    int64    0   0.0       50   \n",
       "1              Sex   object    0   0.0        2   \n",
       "2    ChestPainType   object    0   0.0        4   \n",
       "3        RestingBP    int64    0   0.0       67   \n",
       "4      Cholesterol    int64    0   0.0      222   \n",
       "5        FastingBS    int64    0   0.0        2   \n",
       "6       RestingECG   object    0   0.0        3   \n",
       "7            MaxHR    int64    0   0.0      119   \n",
       "8   ExerciseAngina   object    0   0.0        2   \n",
       "9          Oldpeak  float64    0   0.0       53   \n",
       "10        ST_Slope   object    0   0.0        3   \n",
       "11    HeartDisease    int64    0   0.0        2   \n",
       "\n",
       "                                               unique  \n",
       "0   [40, 49, 37, 48, 54, 39, 45, 58, 42, 38, 43, 6...  \n",
       "1                                              [M, F]  \n",
       "2                                 [ATA, NAP, ASY, TA]  \n",
       "3   [140, 160, 130, 138, 150, 120, 110, 136, 115, ...  \n",
       "4   [289, 180, 283, 214, 195, 339, 237, 208, 207, ...  \n",
       "5                                              [0, 1]  \n",
       "6                                   [Normal, ST, LVH]  \n",
       "7   [172, 156, 98, 108, 122, 170, 142, 130, 120, 9...  \n",
       "8                                              [N, Y]  \n",
       "9   [0.0, 1.0, 1.5, 2.0, 3.0, 4.0, 0.5, 2.5, 5.0, ...  \n",
       "10                                   [Up, Flat, Down]  \n",
       "11                                             [0, 1]  "
      ]
     },
     "metadata": {},
     "output_type": "display_data"
    },
    {
     "name": "stdout",
     "output_type": "stream",
     "text": [
      "Total duplicated data: 0\n"
     ]
    }
   ],
   "source": [
    "def desc_data(df):\n",
    "    df_describe = []\n",
    "    for i in df.columns: \n",
    "          df_describe.append([\n",
    "          i,\n",
    "          df[i].dtypes,\n",
    "          df[i].isna().sum(),\n",
    "          round((((df[i].isna().sum())/(len(df)))*100),2),\n",
    "          df[i].nunique(),\n",
    "          df[i].unique() \n",
    "      ])\n",
    "    return pd.DataFrame(df_describe, columns=['column','type','nan','nan%','nunique','unique'])\n",
    "display(desc_data(df))\n",
    "print('Total duplicated data:',df.duplicated().sum())"
   ]
  },
  {
   "cell_type": "markdown",
   "id": "8ba97605-8f12-414d-8e29-ff6c10cf65ee",
   "metadata": {},
   "source": [
    "- Data types looks fine\n",
    "- No missing values\n",
    "- No duplicate data"
   ]
  },
  {
   "cell_type": "code",
   "execution_count": 115,
   "id": "72c1dd9c-dd1e-41ea-a2dc-c260cbfb3d47",
   "metadata": {},
   "outputs": [],
   "source": [
    "# def boxplotOutlier(col):\n",
    "#     plt.figure(figsize=(2,7))\n",
    "#     sns.boxplot(y = df[col])\n",
    "#     plt.ylabel(col, fontsize = 20)\n",
    "    \n",
    "# for i in numerical:\n",
    "#     boxplotOutlier(i)"
   ]
  },
  {
   "cell_type": "code",
   "execution_count": 116,
   "id": "34a68596-ccd5-419d-b712-6a4ed17443a4",
   "metadata": {},
   "outputs": [],
   "source": [
    "# print('Before removing outlier:',df.shape)\n",
    "# df = df[df.RestingBP>90][df.RestingBP<170]\n",
    "# df = df[df.Cholesterol>50][df.Cholesterol<410]\n",
    "# df = df[df.MaxHR>66]\n",
    "# df = df[df.Oldpeak>-2][df.Oldpeak<3.8]\n",
    "# print('After removing outlier:',df.shape)"
   ]
  },
  {
   "cell_type": "markdown",
   "id": "e58b168d-9e2a-4738-a710-bed4e9515e54",
   "metadata": {},
   "source": [
    "## Data Preprocessing"
   ]
  },
  {
   "cell_type": "markdown",
   "id": "11a1320c-4cda-4f3e-9f2b-596f327f77bc",
   "metadata": {},
   "source": [
    "**Encode**"
   ]
  },
  {
   "cell_type": "code",
   "execution_count": 162,
   "id": "778d4f32-3223-4179-a561-72191fd8fc17",
   "metadata": {},
   "outputs": [
    {
     "data": {
      "text/html": [
       "<div>\n",
       "<style scoped>\n",
       "    .dataframe tbody tr th:only-of-type {\n",
       "        vertical-align: middle;\n",
       "    }\n",
       "\n",
       "    .dataframe tbody tr th {\n",
       "        vertical-align: top;\n",
       "    }\n",
       "\n",
       "    .dataframe thead th {\n",
       "        text-align: right;\n",
       "    }\n",
       "</style>\n",
       "<table border=\"1\" class=\"dataframe\">\n",
       "  <thead>\n",
       "    <tr style=\"text-align: right;\">\n",
       "      <th></th>\n",
       "      <th>Age</th>\n",
       "      <th>RestingBP</th>\n",
       "      <th>Cholesterol</th>\n",
       "      <th>MaxHR</th>\n",
       "      <th>Oldpeak</th>\n",
       "      <th>HeartDisease</th>\n",
       "      <th>FastingBS_0</th>\n",
       "      <th>FastingBS_1</th>\n",
       "      <th>ExerciseAngina_N</th>\n",
       "      <th>ExerciseAngina_Y</th>\n",
       "      <th>...</th>\n",
       "      <th>ChestPainType_NAP</th>\n",
       "      <th>ChestPainType_TA</th>\n",
       "      <th>RestingECG_LVH</th>\n",
       "      <th>RestingECG_Normal</th>\n",
       "      <th>RestingECG_ST</th>\n",
       "      <th>ST_Slope_Down</th>\n",
       "      <th>ST_Slope_Flat</th>\n",
       "      <th>ST_Slope_Up</th>\n",
       "      <th>Sex_F</th>\n",
       "      <th>Sex_M</th>\n",
       "    </tr>\n",
       "  </thead>\n",
       "  <tbody>\n",
       "    <tr>\n",
       "      <th>0</th>\n",
       "      <td>40</td>\n",
       "      <td>140</td>\n",
       "      <td>289</td>\n",
       "      <td>172</td>\n",
       "      <td>0.0</td>\n",
       "      <td>0</td>\n",
       "      <td>1</td>\n",
       "      <td>0</td>\n",
       "      <td>1</td>\n",
       "      <td>0</td>\n",
       "      <td>...</td>\n",
       "      <td>0</td>\n",
       "      <td>0</td>\n",
       "      <td>0</td>\n",
       "      <td>1</td>\n",
       "      <td>0</td>\n",
       "      <td>0</td>\n",
       "      <td>0</td>\n",
       "      <td>1</td>\n",
       "      <td>0</td>\n",
       "      <td>1</td>\n",
       "    </tr>\n",
       "    <tr>\n",
       "      <th>1</th>\n",
       "      <td>49</td>\n",
       "      <td>160</td>\n",
       "      <td>180</td>\n",
       "      <td>156</td>\n",
       "      <td>1.0</td>\n",
       "      <td>1</td>\n",
       "      <td>1</td>\n",
       "      <td>0</td>\n",
       "      <td>1</td>\n",
       "      <td>0</td>\n",
       "      <td>...</td>\n",
       "      <td>1</td>\n",
       "      <td>0</td>\n",
       "      <td>0</td>\n",
       "      <td>1</td>\n",
       "      <td>0</td>\n",
       "      <td>0</td>\n",
       "      <td>1</td>\n",
       "      <td>0</td>\n",
       "      <td>1</td>\n",
       "      <td>0</td>\n",
       "    </tr>\n",
       "    <tr>\n",
       "      <th>2</th>\n",
       "      <td>37</td>\n",
       "      <td>130</td>\n",
       "      <td>283</td>\n",
       "      <td>98</td>\n",
       "      <td>0.0</td>\n",
       "      <td>0</td>\n",
       "      <td>1</td>\n",
       "      <td>0</td>\n",
       "      <td>1</td>\n",
       "      <td>0</td>\n",
       "      <td>...</td>\n",
       "      <td>0</td>\n",
       "      <td>0</td>\n",
       "      <td>0</td>\n",
       "      <td>0</td>\n",
       "      <td>1</td>\n",
       "      <td>0</td>\n",
       "      <td>0</td>\n",
       "      <td>1</td>\n",
       "      <td>0</td>\n",
       "      <td>1</td>\n",
       "    </tr>\n",
       "    <tr>\n",
       "      <th>3</th>\n",
       "      <td>48</td>\n",
       "      <td>138</td>\n",
       "      <td>214</td>\n",
       "      <td>108</td>\n",
       "      <td>1.5</td>\n",
       "      <td>1</td>\n",
       "      <td>1</td>\n",
       "      <td>0</td>\n",
       "      <td>0</td>\n",
       "      <td>1</td>\n",
       "      <td>...</td>\n",
       "      <td>0</td>\n",
       "      <td>0</td>\n",
       "      <td>0</td>\n",
       "      <td>1</td>\n",
       "      <td>0</td>\n",
       "      <td>0</td>\n",
       "      <td>1</td>\n",
       "      <td>0</td>\n",
       "      <td>1</td>\n",
       "      <td>0</td>\n",
       "    </tr>\n",
       "    <tr>\n",
       "      <th>4</th>\n",
       "      <td>54</td>\n",
       "      <td>150</td>\n",
       "      <td>195</td>\n",
       "      <td>122</td>\n",
       "      <td>0.0</td>\n",
       "      <td>0</td>\n",
       "      <td>1</td>\n",
       "      <td>0</td>\n",
       "      <td>1</td>\n",
       "      <td>0</td>\n",
       "      <td>...</td>\n",
       "      <td>1</td>\n",
       "      <td>0</td>\n",
       "      <td>0</td>\n",
       "      <td>1</td>\n",
       "      <td>0</td>\n",
       "      <td>0</td>\n",
       "      <td>0</td>\n",
       "      <td>1</td>\n",
       "      <td>0</td>\n",
       "      <td>1</td>\n",
       "    </tr>\n",
       "  </tbody>\n",
       "</table>\n",
       "<p>5 rows × 22 columns</p>\n",
       "</div>"
      ],
      "text/plain": [
       "   Age  RestingBP  Cholesterol  MaxHR  Oldpeak  HeartDisease  FastingBS_0  \\\n",
       "0   40        140          289    172      0.0             0            1   \n",
       "1   49        160          180    156      1.0             1            1   \n",
       "2   37        130          283     98      0.0             0            1   \n",
       "3   48        138          214    108      1.5             1            1   \n",
       "4   54        150          195    122      0.0             0            1   \n",
       "\n",
       "   FastingBS_1  ExerciseAngina_N  ExerciseAngina_Y  ...  ChestPainType_NAP  \\\n",
       "0            0                 1                 0  ...                  0   \n",
       "1            0                 1                 0  ...                  1   \n",
       "2            0                 1                 0  ...                  0   \n",
       "3            0                 0                 1  ...                  0   \n",
       "4            0                 1                 0  ...                  1   \n",
       "\n",
       "   ChestPainType_TA  RestingECG_LVH  RestingECG_Normal  RestingECG_ST  \\\n",
       "0                 0               0                  1              0   \n",
       "1                 0               0                  1              0   \n",
       "2                 0               0                  0              1   \n",
       "3                 0               0                  1              0   \n",
       "4                 0               0                  1              0   \n",
       "\n",
       "   ST_Slope_Down  ST_Slope_Flat  ST_Slope_Up  Sex_F  Sex_M  \n",
       "0              0              0            1      0      1  \n",
       "1              0              1            0      1      0  \n",
       "2              0              0            1      0      1  \n",
       "3              0              1            0      1      0  \n",
       "4              0              0            1      0      1  \n",
       "\n",
       "[5 rows x 22 columns]"
      ]
     },
     "metadata": {},
     "output_type": "display_data"
    },
    {
     "name": "stdout",
     "output_type": "stream",
     "text": [
      "Column of the dataset before encode is: 12\n",
      "Column of the dataset after encode is: 22\n"
     ]
    }
   ],
   "source": [
    "df_encoded = df.copy()\n",
    "df_encoded = pd.get_dummies(df_encoded,columns=categorical)\n",
    "# df_encoded.drop(columns=categorical,inplace=True)\n",
    "display(df_encoded.head())\n",
    "print('Column of the dataset before encode is:',df.shape[1])\n",
    "print('Column of the dataset after encode is:',df_encoded.shape[1])"
   ]
  },
  {
   "cell_type": "markdown",
   "id": "a1521c84-3903-475b-b138-78be1197c307",
   "metadata": {},
   "source": [
    "**Standard Scaler**"
   ]
  },
  {
   "cell_type": "code",
   "execution_count": 169,
   "id": "8d8fbdbc",
   "metadata": {},
   "outputs": [],
   "source": [
    "features = set(df_encoded.columns)-set(['HeartDisease'])\n",
    "target = 'HeartDisease'"
   ]
  },
  {
   "cell_type": "code",
   "execution_count": 171,
   "id": "ce2b5fd6-5705-4bb3-827a-d2da32c755b8",
   "metadata": {
    "scrolled": true
   },
   "outputs": [
    {
     "data": {
      "text/html": [
       "<div>\n",
       "<style scoped>\n",
       "    .dataframe tbody tr th:only-of-type {\n",
       "        vertical-align: middle;\n",
       "    }\n",
       "\n",
       "    .dataframe tbody tr th {\n",
       "        vertical-align: top;\n",
       "    }\n",
       "\n",
       "    .dataframe thead th {\n",
       "        text-align: right;\n",
       "    }\n",
       "</style>\n",
       "<table border=\"1\" class=\"dataframe\">\n",
       "  <thead>\n",
       "    <tr style=\"text-align: right;\">\n",
       "      <th></th>\n",
       "      <th>ChestPainType_ATA</th>\n",
       "      <th>FastingBS_0</th>\n",
       "      <th>ExerciseAngina_Y</th>\n",
       "      <th>RestingECG_ST</th>\n",
       "      <th>MaxHR</th>\n",
       "      <th>Cholesterol</th>\n",
       "      <th>ST_Slope_Down</th>\n",
       "      <th>ExerciseAngina_N</th>\n",
       "      <th>Age</th>\n",
       "      <th>ChestPainType_ASY</th>\n",
       "      <th>...</th>\n",
       "      <th>Oldpeak</th>\n",
       "      <th>Sex_M</th>\n",
       "      <th>Sex_F</th>\n",
       "      <th>RestingECG_Normal</th>\n",
       "      <th>ChestPainType_TA</th>\n",
       "      <th>FastingBS_1</th>\n",
       "      <th>ChestPainType_NAP</th>\n",
       "      <th>ST_Slope_Up</th>\n",
       "      <th>ST_Slope_Flat</th>\n",
       "      <th>RestingBP</th>\n",
       "    </tr>\n",
       "  </thead>\n",
       "  <tbody>\n",
       "    <tr>\n",
       "      <th>0</th>\n",
       "      <td>2.075177</td>\n",
       "      <td>0.551341</td>\n",
       "      <td>-0.823556</td>\n",
       "      <td>-0.490449</td>\n",
       "      <td>1.382928</td>\n",
       "      <td>0.825070</td>\n",
       "      <td>-0.271448</td>\n",
       "      <td>0.823556</td>\n",
       "      <td>-1.433140</td>\n",
       "      <td>-1.084138</td>\n",
       "      <td>...</td>\n",
       "      <td>-0.832432</td>\n",
       "      <td>0.515952</td>\n",
       "      <td>-0.515952</td>\n",
       "      <td>0.814275</td>\n",
       "      <td>-0.229679</td>\n",
       "      <td>-0.551341</td>\n",
       "      <td>-0.532838</td>\n",
       "      <td>1.150674</td>\n",
       "      <td>-1.002181</td>\n",
       "      <td>0.410909</td>\n",
       "    </tr>\n",
       "    <tr>\n",
       "      <th>1</th>\n",
       "      <td>-0.481887</td>\n",
       "      <td>0.551341</td>\n",
       "      <td>-0.823556</td>\n",
       "      <td>-0.490449</td>\n",
       "      <td>0.754157</td>\n",
       "      <td>-0.171961</td>\n",
       "      <td>-0.271448</td>\n",
       "      <td>0.823556</td>\n",
       "      <td>-0.478484</td>\n",
       "      <td>-1.084138</td>\n",
       "      <td>...</td>\n",
       "      <td>0.105664</td>\n",
       "      <td>-1.938163</td>\n",
       "      <td>1.938163</td>\n",
       "      <td>0.814275</td>\n",
       "      <td>-0.229679</td>\n",
       "      <td>-0.551341</td>\n",
       "      <td>1.876744</td>\n",
       "      <td>-0.869056</td>\n",
       "      <td>0.997824</td>\n",
       "      <td>1.491752</td>\n",
       "    </tr>\n",
       "    <tr>\n",
       "      <th>2</th>\n",
       "      <td>2.075177</td>\n",
       "      <td>0.551341</td>\n",
       "      <td>-0.823556</td>\n",
       "      <td>2.038947</td>\n",
       "      <td>-1.525138</td>\n",
       "      <td>0.770188</td>\n",
       "      <td>-0.271448</td>\n",
       "      <td>0.823556</td>\n",
       "      <td>-1.751359</td>\n",
       "      <td>-1.084138</td>\n",
       "      <td>...</td>\n",
       "      <td>-0.832432</td>\n",
       "      <td>0.515952</td>\n",
       "      <td>-0.515952</td>\n",
       "      <td>-1.228087</td>\n",
       "      <td>-0.229679</td>\n",
       "      <td>-0.551341</td>\n",
       "      <td>-0.532838</td>\n",
       "      <td>1.150674</td>\n",
       "      <td>-1.002181</td>\n",
       "      <td>-0.129513</td>\n",
       "    </tr>\n",
       "    <tr>\n",
       "      <th>3</th>\n",
       "      <td>-0.481887</td>\n",
       "      <td>0.551341</td>\n",
       "      <td>1.214246</td>\n",
       "      <td>-0.490449</td>\n",
       "      <td>-1.132156</td>\n",
       "      <td>0.139040</td>\n",
       "      <td>-0.271448</td>\n",
       "      <td>-1.214246</td>\n",
       "      <td>-0.584556</td>\n",
       "      <td>0.922392</td>\n",
       "      <td>...</td>\n",
       "      <td>0.574711</td>\n",
       "      <td>-1.938163</td>\n",
       "      <td>1.938163</td>\n",
       "      <td>0.814275</td>\n",
       "      <td>-0.229679</td>\n",
       "      <td>-0.551341</td>\n",
       "      <td>-0.532838</td>\n",
       "      <td>-0.869056</td>\n",
       "      <td>0.997824</td>\n",
       "      <td>0.302825</td>\n",
       "    </tr>\n",
       "    <tr>\n",
       "      <th>4</th>\n",
       "      <td>-0.481887</td>\n",
       "      <td>0.551341</td>\n",
       "      <td>-0.823556</td>\n",
       "      <td>-0.490449</td>\n",
       "      <td>-0.581981</td>\n",
       "      <td>-0.034755</td>\n",
       "      <td>-0.271448</td>\n",
       "      <td>0.823556</td>\n",
       "      <td>0.051881</td>\n",
       "      <td>-1.084138</td>\n",
       "      <td>...</td>\n",
       "      <td>-0.832432</td>\n",
       "      <td>0.515952</td>\n",
       "      <td>-0.515952</td>\n",
       "      <td>0.814275</td>\n",
       "      <td>-0.229679</td>\n",
       "      <td>-0.551341</td>\n",
       "      <td>1.876744</td>\n",
       "      <td>1.150674</td>\n",
       "      <td>-1.002181</td>\n",
       "      <td>0.951331</td>\n",
       "    </tr>\n",
       "  </tbody>\n",
       "</table>\n",
       "<p>5 rows × 21 columns</p>\n",
       "</div>"
      ],
      "text/plain": [
       "   ChestPainType_ATA  FastingBS_0  ExerciseAngina_Y  RestingECG_ST     MaxHR  \\\n",
       "0           2.075177     0.551341         -0.823556      -0.490449  1.382928   \n",
       "1          -0.481887     0.551341         -0.823556      -0.490449  0.754157   \n",
       "2           2.075177     0.551341         -0.823556       2.038947 -1.525138   \n",
       "3          -0.481887     0.551341          1.214246      -0.490449 -1.132156   \n",
       "4          -0.481887     0.551341         -0.823556      -0.490449 -0.581981   \n",
       "\n",
       "   Cholesterol  ST_Slope_Down  ExerciseAngina_N       Age  ChestPainType_ASY  \\\n",
       "0     0.825070      -0.271448          0.823556 -1.433140          -1.084138   \n",
       "1    -0.171961      -0.271448          0.823556 -0.478484          -1.084138   \n",
       "2     0.770188      -0.271448          0.823556 -1.751359          -1.084138   \n",
       "3     0.139040      -0.271448         -1.214246 -0.584556           0.922392   \n",
       "4    -0.034755      -0.271448          0.823556  0.051881          -1.084138   \n",
       "\n",
       "   ...   Oldpeak     Sex_M     Sex_F  RestingECG_Normal  ChestPainType_TA  \\\n",
       "0  ... -0.832432  0.515952 -0.515952           0.814275         -0.229679   \n",
       "1  ...  0.105664 -1.938163  1.938163           0.814275         -0.229679   \n",
       "2  ... -0.832432  0.515952 -0.515952          -1.228087         -0.229679   \n",
       "3  ...  0.574711 -1.938163  1.938163           0.814275         -0.229679   \n",
       "4  ... -0.832432  0.515952 -0.515952           0.814275         -0.229679   \n",
       "\n",
       "   FastingBS_1  ChestPainType_NAP  ST_Slope_Up  ST_Slope_Flat  RestingBP  \n",
       "0    -0.551341          -0.532838     1.150674      -1.002181   0.410909  \n",
       "1    -0.551341           1.876744    -0.869056       0.997824   1.491752  \n",
       "2    -0.551341          -0.532838     1.150674      -1.002181  -0.129513  \n",
       "3    -0.551341          -0.532838    -0.869056       0.997824   0.302825  \n",
       "4    -0.551341           1.876744     1.150674      -1.002181   0.951331  \n",
       "\n",
       "[5 rows x 21 columns]"
      ]
     },
     "execution_count": 171,
     "metadata": {},
     "output_type": "execute_result"
    }
   ],
   "source": [
    "scaler = StandardScaler()\n",
    "scaler.fit(df_encoded[features])\n",
    "df_scaled = pd.DataFrame(scaler.transform(df_encoded[features]),columns=df_encoded[features].columns)\n",
    "df_scaled.head()"
   ]
  },
  {
   "cell_type": "markdown",
   "id": "fc45cfd0",
   "metadata": {},
   "source": [
    "**Train Test Split**"
   ]
  },
  {
   "cell_type": "code",
   "execution_count": 173,
   "id": "064d0938-2b48-4b65-ba68-26e788e71d30",
   "metadata": {},
   "outputs": [
    {
     "name": "stdout",
     "output_type": "stream",
     "text": [
      "Shape of X_train (734, 21)\n",
      "Shape of y_train (734,)\n",
      "Shape of X_test (184, 21)\n",
      "Shape of y_test (184,)\n"
     ]
    }
   ],
   "source": [
    "X_train, X_test, y_train, y_test = train_test_split(df_scaled[features],df_encoded[target],test_size=0.2,random_state=20)\n",
    "print('Shape of X_train',X_train.shape)\n",
    "print('Shape of y_train',y_train.shape)\n",
    "print('Shape of X_test',X_test.shape)\n",
    "print('Shape of y_test',y_test.shape)"
   ]
  },
  {
   "cell_type": "markdown",
   "id": "ba6a6ac9",
   "metadata": {},
   "source": [
    "**Correlation**"
   ]
  },
  {
   "cell_type": "code",
   "execution_count": 175,
   "id": "81c7f0f6-f2b2-4655-9398-3cf1dad8ead2",
   "metadata": {},
   "outputs": [
    {
     "data": {
      "text/plain": [
       "HeartDisease         1.000000\n",
       "ST_Slope_Flat        0.554134\n",
       "ChestPainType_ASY    0.516716\n",
       "ExerciseAngina_Y     0.494282\n",
       "Oldpeak              0.403951\n",
       "Sex_M                0.305445\n",
       "Age                  0.282039\n",
       "FastingBS_1          0.267291\n",
       "ST_Slope_Down        0.122527\n",
       "RestingBP            0.107589\n",
       "RestingECG_ST        0.102527\n",
       "RestingECG_LVH       0.010670\n",
       "ChestPainType_TA    -0.054790\n",
       "RestingECG_Normal   -0.091580\n",
       "ChestPainType_NAP   -0.212964\n",
       "Cholesterol         -0.232741\n",
       "FastingBS_0         -0.267291\n",
       "Sex_F               -0.305445\n",
       "MaxHR               -0.400421\n",
       "ChestPainType_ATA   -0.401924\n",
       "ExerciseAngina_N    -0.494282\n",
       "ST_Slope_Up         -0.622164\n",
       "Name: HeartDisease, dtype: float64"
      ]
     },
     "execution_count": 175,
     "metadata": {},
     "output_type": "execute_result"
    }
   ],
   "source": [
    "df_encoded.corr(method='pearson')['HeartDisease'].sort_values(ascending=False)"
   ]
  },
  {
   "cell_type": "markdown",
   "id": "a8328ee0",
   "metadata": {},
   "source": [
    "\"ST_Slope_Flat\", \"ChestPainType_ASY\", \"ExerciseAngina_Y\" is the top 3 most correlate with target feature \"HeartDisease\"."
   ]
  },
  {
   "cell_type": "markdown",
   "id": "de80ee80-03c9-41e6-b5c0-118faf5b728a",
   "metadata": {},
   "source": [
    "## Model Selection"
   ]
  },
  {
   "cell_type": "markdown",
   "id": "90e8332a",
   "metadata": {},
   "source": [
    "**Logistic Regression**"
   ]
  },
  {
   "cell_type": "code",
   "execution_count": 176,
   "id": "5e459a44",
   "metadata": {},
   "outputs": [
    {
     "name": "stdout",
     "output_type": "stream",
     "text": [
      "Logistic Regression Model Accuracy: 0.8586956521739131\n"
     ]
    }
   ],
   "source": [
    "sm_lm = OLS(y_train, sm.add_constant(X_train))\n",
    "result = sm_lm.fit()\n",
    "y_pred_prob_ols = result.predict(sm.add_constant(X_test))\n",
    "y_pred_ols = np.where(y_pred_prob_ols>0.5,1,0)\n",
    "print('Logistic Regression Model Accuracy:',accuracy_score(y_test,y_pred_ols))"
   ]
  },
  {
   "cell_type": "markdown",
   "id": "e9655ea9",
   "metadata": {},
   "source": [
    "**Naive Bayes**"
   ]
  },
  {
   "cell_type": "code",
   "execution_count": 184,
   "id": "5155c379",
   "metadata": {},
   "outputs": [
    {
     "name": "stdout",
     "output_type": "stream",
     "text": [
      "Naive Bayes Model Accuracy: 0.8641304347826086\n"
     ]
    }
   ],
   "source": [
    "nb = GaussianNB()\n",
    "nb.fit(X_train, y_train)\n",
    "y_pred_nb = nb.predict(X_test)\n",
    "print('Naive Bayes Model Accuracy:',accuracy_score(y_test,y_pred_nb))"
   ]
  },
  {
   "cell_type": "markdown",
   "id": "80a96f22",
   "metadata": {},
   "source": [
    "**KNN**"
   ]
  },
  {
   "cell_type": "code",
   "execution_count": 178,
   "id": "247af343",
   "metadata": {},
   "outputs": [
    {
     "data": {
      "text/plain": [
       "Text(0, 0.5, 'Error rate')"
      ]
     },
     "execution_count": 178,
     "metadata": {},
     "output_type": "execute_result"
    },
    {
     "data": {
      "image/png": "[encoded data removed]",
      "text/plain": [
       "<Figure size 720x432 with 1 Axes>"
      ]
     },
     "metadata": {
      "needs_background": "light"
     },
     "output_type": "display_data"
    }
   ],
   "source": [
    "error_rate = []\n",
    "for i in range(1,40):\n",
    "    knn = KNeighborsClassifier(n_neighbors=i)\n",
    "    knn.fit(X_train,y_train)\n",
    "    pred_i = knn.predict(X_test)\n",
    "    error_rate.append(np.mean(pred_i!=y_test))\n",
    "\n",
    "plt.figure(figsize=(10,6))\n",
    "plt.plot(range(1,40),error_rate)\n",
    "plt.title('K Optimize for KNN')\n",
    "plt.xlabel('K')\n",
    "plt.ylabel('Error rate')"
   ]
  },
  {
   "cell_type": "markdown",
   "id": "88bce494",
   "metadata": {},
   "source": [
    "As we can see, the smallest error rate is with K value = 18. So we're going to use n neighbors = 18 for KNN model."
   ]
  },
  {
   "cell_type": "code",
   "execution_count": 179,
   "id": "05b1a51b",
   "metadata": {},
   "outputs": [
    {
     "name": "stdout",
     "output_type": "stream",
     "text": [
      "              precision    recall  f1-score   support\n",
      "\n",
      "           0       0.89      0.88      0.89        85\n",
      "           1       0.90      0.91      0.90        99\n",
      "\n",
      "    accuracy                           0.90       184\n",
      "   macro avg       0.90      0.90      0.90       184\n",
      "weighted avg       0.90      0.90      0.90       184\n",
      "\n",
      "Best K = 18\n",
      "KNN Model Accuracy: 0.8967391304347826\n"
     ]
    }
   ],
   "source": [
    "bestErrorRate = error_rate.index(min(error_rate))+1\n",
    "knn = KNeighborsClassifier(n_neighbors=bestErrorRate)\n",
    "knn.fit(X_train,y_train)\n",
    "y_pred_knn = knn.predict(X_test) \n",
    "print(classification_report(y_test,y_pred_knn))\n",
    "print('Best K =',bestErrorRate)\n",
    "print('KNN Model Accuracy:',accuracy_score(y_test,y_pred_knn))"
   ]
  },
  {
   "cell_type": "markdown",
   "id": "280339c1",
   "metadata": {},
   "source": [
    "**Decision Tree**"
   ]
  },
  {
   "cell_type": "code",
   "execution_count": 185,
   "id": "5fb1394a",
   "metadata": {},
   "outputs": [
    {
     "name": "stdout",
     "output_type": "stream",
     "text": [
      "              precision    recall  f1-score   support\n",
      "\n",
      "           0       0.84      0.74      0.79        85\n",
      "           1       0.80      0.88      0.84        99\n",
      "\n",
      "    accuracy                           0.82       184\n",
      "   macro avg       0.82      0.81      0.81       184\n",
      "weighted avg       0.82      0.82      0.81       184\n",
      "\n",
      "KNN Model Accuracy: 0.8152173913043478\n"
     ]
    }
   ],
   "source": [
    "tree = DecisionTreeClassifier(criterion = 'gini',max_depth=2)\n",
    "tree.fit(X_train,y_train)\n",
    "y_pred_tree = tree.predict(X_test)\n",
    "print(classification_report(y_test,y_pred_tree))\n",
    "print('KNN Model Accuracy:',accuracy_score(y_test,y_pred_tree))"
   ]
  },
  {
   "cell_type": "markdown",
   "id": "238d091f",
   "metadata": {},
   "source": [
    "**SVM**"
   ]
  },
  {
   "cell_type": "code",
   "execution_count": 186,
   "id": "f68390c3",
   "metadata": {},
   "outputs": [
    {
     "name": "stdout",
     "output_type": "stream",
     "text": [
      "              precision    recall  f1-score   support\n",
      "\n",
      "           0       0.90      0.85      0.87        85\n",
      "           1       0.88      0.92      0.90        99\n",
      "\n",
      "    accuracy                           0.89       184\n",
      "   macro avg       0.89      0.88      0.88       184\n",
      "weighted avg       0.89      0.89      0.89       184\n",
      "\n",
      "AdaBoost Classifier Model Accuracy: 0.8858695652173914\n"
     ]
    }
   ],
   "source": [
    "svm_clf = svm.SVC()\n",
    "svm_clf.fit(X_train, y_train)\n",
    "y_pred_svm = svm_clf.predict(X_test)\n",
    "print(classification_report(y_test,y_pred_svm))\n",
    "print(\"AdaBoost Classifier Model Accuracy:\",accuracy_score(y_test, y_pred_svm))"
   ]
  },
  {
   "cell_type": "markdown",
   "id": "f7b18e67",
   "metadata": {},
   "source": [
    "**Adaboost**"
   ]
  },
  {
   "cell_type": "code",
   "execution_count": 180,
   "id": "0f80e6a6",
   "metadata": {},
   "outputs": [
    {
     "name": "stdout",
     "output_type": "stream",
     "text": [
      "              precision    recall  f1-score   support\n",
      "\n",
      "           0       0.91      0.81      0.86        85\n",
      "           1       0.85      0.93      0.89        99\n",
      "\n",
      "    accuracy                           0.88       184\n",
      "   macro avg       0.88      0.87      0.87       184\n",
      "weighted avg       0.88      0.88      0.87       184\n",
      "\n",
      "AdaBoost Classifier Model Accuracy: 0.875\n"
     ]
    }
   ],
   "source": [
    "abc = AdaBoostClassifier(n_estimators=500,learning_rate=0.01,random_state=20)\n",
    "model = abc.fit(X_train,y_train)\n",
    "y_pred_adaboost = model.predict(X_test)\n",
    "print(classification_report(y_test,y_pred_adaboost))\n",
    "print(\"AdaBoost Classifier Model Accuracy:\",accuracy_score(y_test, y_pred_adaboost))"
   ]
  },
  {
   "cell_type": "markdown",
   "id": "1b38771c",
   "metadata": {},
   "source": [
    "**XGBoost**"
   ]
  },
  {
   "cell_type": "code",
   "execution_count": 181,
   "id": "d22fedef",
   "metadata": {},
   "outputs": [
    {
     "name": "stdout",
     "output_type": "stream",
     "text": [
      "              precision    recall  f1-score   support\n",
      "\n",
      "           0       0.88      0.81      0.85        85\n",
      "           1       0.85      0.91      0.88        99\n",
      "\n",
      "    accuracy                           0.86       184\n",
      "   macro avg       0.87      0.86      0.86       184\n",
      "weighted avg       0.87      0.86      0.86       184\n",
      "\n",
      "XGBoost Classifier Model Accuracy: 0.8641304347826086\n"
     ]
    }
   ],
   "source": [
    "gbc = GradientBoostingClassifier(n_estimators=500,learning_rate=0.01,random_state=20)\n",
    "model = gbc.fit(X_train,y_train)\n",
    "y_pred_xgboost = model.predict(X_test)\n",
    "print(classification_report(y_test,y_pred_xgboost))\n",
    "print(\"XGBoost Classifier Model Accuracy:\",accuracy_score(y_test,y_pred_xgboost))"
   ]
  },
  {
   "cell_type": "markdown",
   "id": "82341863",
   "metadata": {},
   "source": [
    "## Comparasion Between Models"
   ]
  },
  {
   "cell_type": "code",
   "execution_count": 209,
   "id": "be2d5db2",
   "metadata": {},
   "outputs": [
    {
     "data": {
      "text/html": [
       "<div>\n",
       "<style scoped>\n",
       "    .dataframe tbody tr th:only-of-type {\n",
       "        vertical-align: middle;\n",
       "    }\n",
       "\n",
       "    .dataframe tbody tr th {\n",
       "        vertical-align: top;\n",
       "    }\n",
       "\n",
       "    .dataframe thead th {\n",
       "        text-align: right;\n",
       "    }\n",
       "</style>\n",
       "<table border=\"1\" class=\"dataframe\">\n",
       "  <thead>\n",
       "    <tr style=\"text-align: right;\">\n",
       "      <th></th>\n",
       "      <th>Model</th>\n",
       "      <th>Accuracy</th>\n",
       "    </tr>\n",
       "  </thead>\n",
       "  <tbody>\n",
       "    <tr>\n",
       "      <th>0</th>\n",
       "      <td>KNN</td>\n",
       "      <td>0.896739</td>\n",
       "    </tr>\n",
       "    <tr>\n",
       "      <th>1</th>\n",
       "      <td>SVM</td>\n",
       "      <td>0.885870</td>\n",
       "    </tr>\n",
       "    <tr>\n",
       "      <th>2</th>\n",
       "      <td>Adaboost</td>\n",
       "      <td>0.875000</td>\n",
       "    </tr>\n",
       "    <tr>\n",
       "      <th>3</th>\n",
       "      <td>Naive Bayes</td>\n",
       "      <td>0.864130</td>\n",
       "    </tr>\n",
       "    <tr>\n",
       "      <th>4</th>\n",
       "      <td>XGBoost</td>\n",
       "      <td>0.864130</td>\n",
       "    </tr>\n",
       "    <tr>\n",
       "      <th>5</th>\n",
       "      <td>Logistic Regression</td>\n",
       "      <td>0.858696</td>\n",
       "    </tr>\n",
       "    <tr>\n",
       "      <th>6</th>\n",
       "      <td>Decision Tree</td>\n",
       "      <td>0.815217</td>\n",
       "    </tr>\n",
       "  </tbody>\n",
       "</table>\n",
       "</div>"
      ],
      "text/plain": [
       "                 Model  Accuracy\n",
       "0                  KNN  0.896739\n",
       "1                  SVM  0.885870\n",
       "2             Adaboost  0.875000\n",
       "3          Naive Bayes  0.864130\n",
       "4              XGBoost  0.864130\n",
       "5  Logistic Regression  0.858696\n",
       "6        Decision Tree  0.815217"
      ]
     },
     "execution_count": 209,
     "metadata": {},
     "output_type": "execute_result"
    }
   ],
   "source": [
    "modelName = ['Logistic Regression','Naive Bayes','KNN','Decision Tree','SVM','Adaboost','XGBoost']\n",
    "preds = [y_pred_ols,y_pred_nb,y_pred_knn,y_pred_tree,y_pred_svm,y_pred_adaboost,y_pred_xgboost]\n",
    "accs = []\n",
    "for i in preds:\n",
    "    accs.append(accuracy_score(y_test,i))\n",
    "df_model = pd.DataFrame({'Model':modelName,'Accuracy':accs})\n",
    "df_model.sort_values('Accuracy',ascending=False).reset_index(drop=True)"
   ]
  },
  {
   "cell_type": "code",
   "execution_count": 210,
   "id": "356622ac",
   "metadata": {
    "scrolled": false
   },
   "outputs": [
    {
     "data": {
      "text/plain": [
       "Text(0.5, 1.0, 'Accuracy Comparasion Between Models')"
      ]
     },
     "execution_count": 210,
     "metadata": {},
     "output_type": "execute_result"
    },
    {
     "data": {
      "image/png": "[encoded data removed]",
      "text/plain": [
       "<Figure size 936x360 with 1 Axes>"
      ]
     },
     "metadata": {
      "needs_background": "light"
     },
     "output_type": "display_data"
    }
   ],
   "source": [
    "plt.figure(figsize=(13,5))\n",
    "sns.barplot(x='Accuracy', y='Model', data=df_model, palette='bright')\n",
    "plt.title('Accuracy Comparasion Between Models')"
   ]
  },
  {
   "cell_type": "markdown",
   "id": "84e4ad45",
   "metadata": {},
   "source": [
    "KNN is the winner with 89.7% Accuracy."
   ]
  },
  {
   "cell_type": "markdown",
   "id": "f119854c-f9ea-4b7e-9fb9-4427df684588",
   "metadata": {},
   "source": [
    "## References\n",
    "1. [Heart Failure Prediction Dataset (Kaggle Dataset) - Kaggle](https://www.kaggle.com/fedesoriano/heart-failure-prediction/)\n",
    "1. [K-Nearest Neighbors Algorithm In Python, by example - Towardsdatascience](https://towardsdatascience.com/k-nearest-neighbors-algorithm-in-python-by-example-79abc37a4443)\n",
    "1. [5 Types of Classification Algorithms in Machine Learning - Monkeylearn](https://monkeylearn.com/blog/classification-algorithms/)\n",
    "1. [Heart failure prediction using Adaboost & XGboost - Kaggle](https://www.kaggle.com/ysthehurricane/heart-failure-prediction-using-adaboost-xgboost)\n",
    "1. []()"
   ]
  }
 ],
 "metadata": {
  "kernelspec": {
   "display_name": "Python 3",
   "language": "python",
   "name": "python3"
  },
  "language_info": {
   "codemirror_mode": {
    "name": "ipython",
    "version": 3
   },
   "file_extension": ".py",
   "mimetype": "text/x-python",
   "name": "python",
   "nbconvert_exporter": "python",
   "pygments_lexer": "ipython3",
   "version": "3.8.8"
  }
 },
 "nbformat": 4,
 "nbformat_minor": 5
}
