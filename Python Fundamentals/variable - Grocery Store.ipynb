{
 "cells": [
  {
   "cell_type": "markdown",
   "metadata": {},
   "source": [
    "# Variable"
   ]
  },
  {
   "cell_type": "markdown",
   "metadata": {},
   "source": [
    "## Grocery Store"
   ]
  },
  {
   "cell_type": "markdown",
   "metadata": {},
   "source": [
    "<p align=\"center\">\n",
    "<img \n",
    "src = \"https://images.unsplash.com/photo-1583258292688-d0213dc5a3a8?ixid=MnwxMjA3fDB8MHxzZWFyY2h8MXx8Z3JvY2VyeSUyMHN0b3JlfGVufDB8fDB8fA%3D%3D&ixlib=rb-1.2.1&w=1000&q=80\"\n",
    "width = \"600\"/>\n",
    "</p>"
   ]
  },
  {
   "cell_type": "markdown",
   "metadata": {},
   "source": [
    "### Set Fruit Prices"
   ]
  },
  {
   "cell_type": "code",
   "execution_count": 1,
   "metadata": {},
   "outputs": [],
   "source": [
    "applePrice  = 1.32\n",
    "orangePrice = 1.33\n",
    "lemonPrice  = 2"
   ]
  },
  {
   "cell_type": "markdown",
   "metadata": {},
   "source": [
    "### Input Fruits Count"
   ]
  },
  {
   "cell_type": "code",
   "execution_count": 2,
   "metadata": {},
   "outputs": [],
   "source": [
    "appleCount = int(input('Enter Number of Apples: '))\n",
    "orangeCount = int(input('Enter Number of Oranges: '))\n",
    "lemonCount = int(input('Enter Number of Lemons: '))"
   ]
  },
  {
   "cell_type": "markdown",
   "metadata": {},
   "source": [
    "### Count Prices and Print the receipt"
   ]
  },
  {
   "cell_type": "code",
   "execution_count": 9,
   "metadata": {},
   "outputs": [
    {
     "name": "stdout",
     "output_type": "stream",
     "text": [
      "\n",
      "Receipt\n",
      "\n",
      "Apple  : 3 x $1.32 = $3.96\n",
      "Orange : 2 x $1.33 = $2.66\n",
      "Lemon  : 1 x $2 = $2\n",
      "\n",
      "Total Price : $8.62\n",
      "\n"
     ]
    }
   ],
   "source": [
    "totalApplePrice = appleCount * applePrice\n",
    "totalOrangePrice = orangeCount * orangePrice\n",
    "totalLemonPrice = lemonCount * lemonPrice\n",
    "\n",
    "print('''\n",
    "Receipt\n",
    "\n",
    "Apple  : {appleCount} x ${applePrice} = ${totalApplePrice}\n",
    "Orange : {orangeCount} x ${orangePrice} = ${totalOrangePrice}\n",
    "Lemon  : {lemonCount} x ${lemonPrice} = ${totalLemonPrice}\n",
    "\n",
    "Total Price : ${totalPrice}\n",
    "'''.format(appleCount=appleCount, applePrice=applePrice, totalApplePrice=totalApplePrice, \n",
    "    orangeCount=orangeCount, orangePrice=orangePrice, totalOrangePrice=totalOrangePrice,\n",
    "    lemonCount=lemonCount, lemonPrice=lemonPrice, totalLemonPrice=totalLemonPrice,\n",
    "    totalPrice=round(totalLemonPrice+totalApplePrice+totalOrangePrice, 2)))"
   ]
  }
 ],
 "metadata": {
  "interpreter": {
   "hash": "22f82d992118cd312d8528f284a0c738faceb7899d120a05bd37c4ff6a22205d"
  },
  "kernelspec": {
   "display_name": "Python 3.7.9 64-bit ('base': conda)",
   "name": "python3"
  },
  "language_info": {
   "codemirror_mode": {
    "name": "ipython",
    "version": 3
   },
   "file_extension": ".py",
   "mimetype": "text/x-python",
   "name": "python",
   "nbconvert_exporter": "python",
   "pygments_lexer": "ipython3",
   "version": "3.7.9"
  },
  "orig_nbformat": 4
 },
 "nbformat": 4,
 "nbformat_minor": 2
}
