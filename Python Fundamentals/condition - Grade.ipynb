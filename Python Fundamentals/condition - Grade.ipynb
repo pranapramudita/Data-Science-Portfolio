{
 "cells": [
  {
   "cell_type": "markdown",
   "metadata": {},
   "source": [
    "# Condition"
   ]
  },
  {
   "cell_type": "markdown",
   "metadata": {},
   "source": [
    "## Grading for College"
   ]
  },
  {
   "cell_type": "markdown",
   "metadata": {},
   "source": [
    "<p align=\"center\">\n",
    "<img \n",
    "src = \"https://www.researchgate.net/profile/Nagi-Zomrawi/publication/333752724/figure/tbl2/AS:769326521004035@1560433144375/University-exam-grading-system.png\"\n",
    "width = \"600\"/>\n",
    "</p>"
   ]
  },
  {
   "cell_type": "code",
   "execution_count": 12,
   "metadata": {},
   "outputs": [],
   "source": [
    "def grade(mark):\n",
    "  if(mark >= 95 and mark <= 100) :\n",
    "    grade = 'A+'\n",
    "  elif(mark >= 90 and mark <= 94) :\n",
    "      grade = 'A'\n",
    "  elif(mark >= 85 and mark <= 89) :\n",
    "      grade = 'B+'\n",
    "  elif(mark >= 80 and mark <= 84) :\n",
    "      grade = 'B'\n",
    "  elif(mark >= 75 and mark <= 79) :\n",
    "      grade = 'C+'\n",
    "  elif(mark >= 70 and mark <= 74) :\n",
    "      grade = 'C'\n",
    "  elif(mark >= 65 and mark <= 69) :\n",
    "      grade = 'D+'\n",
    "  elif(mark >= 60 and mark <= 64) :\n",
    "      grade = 'D'\n",
    "  elif(mark >= 0 and mark < 60) :\n",
    "      grade = 'F'\n",
    "  else :\n",
    "      grade = 'Out of range 0-100'\n",
    "  return grade"
   ]
  },
  {
   "cell_type": "code",
   "execution_count": 30,
   "metadata": {},
   "outputs": [
    {
     "name": "stdout",
     "output_type": "stream",
     "text": [
      "95 A+\n",
      "93 A\n",
      "87 B+\n",
      "81 B\n",
      "76 C+\n",
      "73 C\n",
      "68 D+\n",
      "60 D\n",
      "0 F\n",
      "-1 Out of range 0-100\n",
      "150 Out of range 0-100\n"
     ]
    }
   ],
   "source": [
    "for i in [95,93,87,81,76,73,68,60,0,-1,150]:\n",
    "  print(i,grade(i))"
   ]
  },
  {
   "cell_type": "code",
   "execution_count": 18,
   "metadata": {},
   "outputs": [
    {
     "name": "stdout",
     "output_type": "stream",
     "text": [
      "Mark  = 100\n",
      "Grade = A+\n"
     ]
    }
   ],
   "source": [
    "mark = int(input(\"Input mark : \"))\n",
    "\n",
    "print('Mark  = {}'.format(mark))\n",
    "print('Grade = {}'.format(grade(mark)))"
   ]
  }
 ],
 "metadata": {
  "interpreter": {
   "hash": "22f82d992118cd312d8528f284a0c738faceb7899d120a05bd37c4ff6a22205d"
  },
  "kernelspec": {
   "display_name": "Python 3.7.9 64-bit ('base': conda)",
   "name": "python3"
  },
  "language_info": {
   "codemirror_mode": {
    "name": "ipython",
    "version": 3
   },
   "file_extension": ".py",
   "mimetype": "text/x-python",
   "name": "python",
   "nbconvert_exporter": "python",
   "pygments_lexer": "ipython3",
   "version": "3.7.9"
  },
  "orig_nbformat": 4
 },
 "nbformat": 4,
 "nbformat_minor": 2
}
