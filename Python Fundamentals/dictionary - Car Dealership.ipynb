{
 "cells": [
  {
   "cell_type": "markdown",
   "metadata": {},
   "source": [
    "# Dictionary"
   ]
  },
  {
   "cell_type": "markdown",
   "metadata": {},
   "source": [
    "## Car Dealership"
   ]
  },
  {
   "cell_type": "markdown",
   "metadata": {},
   "source": [
    "<p align=\"center\">\n",
    "<img \n",
    "src = \"https://cdn.motor1.com/images/mgl/VLxPy/s3/2015-611190volkswagen-headquarters1.jpg\"\n",
    "width = \"600\"/>\n",
    "</p>"
   ]
  },
  {
   "cell_type": "code",
   "execution_count": 51,
   "metadata": {},
   "outputs": [
    {
     "name": "stdout",
     "output_type": "stream",
     "text": [
      "Car List: \n",
      "Index\t| Name  \t| Stock\t| Price (Dollar USD)\n",
      "0\t| Lamborghini  \t| 100\t| $ 500000\n",
      "1\t| Bugatti  \t| 150\t| $ 4500000\n",
      "2\t| Ferrari  \t| 200\t| $ 215000\n",
      "3\t| Porsche  \t| 250\t| $ 97400\n"
     ]
    }
   ],
   "source": [
    "dictCars = [\n",
    "    {\n",
    "        'name': 'Lamborghini',\n",
    "        'stock': 100,\n",
    "        'price': 500000\n",
    "    },\n",
    "    {\n",
    "        'name': 'Bugatti',\n",
    "        'stock': 150,\n",
    "        'price': 4500000\n",
    "    },\n",
    "    {\n",
    "        'name': 'Ferrari',\n",
    "        'stock': 200,\n",
    "        'price': 215000\n",
    "    },\n",
    "    {\n",
    "        'name': 'Porsche',\n",
    "        'stock': 250,\n",
    "        'price': 97400\n",
    "    }\n",
    "]\n",
    "\n",
    "print('Car List: \\nIndex\\t| Name  \\t| Stock\\t| Price (Dollar USD)')\n",
    "for i in range(len(dictCars)) :\n",
    "    print('{}\\t| {}  \\t| {}\\t| $ {}'.format(i,dictCars[i]['name'],dictCars[i]['stock'],dictCars[i]['price']))"
   ]
  }
 ],
 "metadata": {
  "interpreter": {
   "hash": "22f82d992118cd312d8528f284a0c738faceb7899d120a05bd37c4ff6a22205d"
  },
  "kernelspec": {
   "display_name": "Python 3.7.9 64-bit ('base': conda)",
   "name": "python3"
  },
  "language_info": {
   "codemirror_mode": {
    "name": "ipython",
    "version": 3
   },
   "file_extension": ".py",
   "mimetype": "text/x-python",
   "name": "python",
   "nbconvert_exporter": "python",
   "pygments_lexer": "ipython3",
   "version": "3.7.9"
  },
  "orig_nbformat": 4
 },
 "nbformat": 4,
 "nbformat_minor": 2
}
