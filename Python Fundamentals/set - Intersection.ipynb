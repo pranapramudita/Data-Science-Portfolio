{
 "cells": [
  {
   "cell_type": "markdown",
   "metadata": {},
   "source": [
    "# Set"
   ]
  },
  {
   "cell_type": "code",
   "execution_count": 8,
   "metadata": {},
   "outputs": [],
   "source": [
    "setMovies1 = set(input('Enter your 5 Favorite Movies separated by commas : ').split(','))\n",
    "setMovies2 = set(input('Enter your friends 5 Favorite Movies separated by commas : ').split(','))"
   ]
  },
  {
   "cell_type": "code",
   "execution_count": 9,
   "metadata": {},
   "outputs": [
    {
     "name": "stdout",
     "output_type": "stream",
     "text": [
      "\n",
      "Your 5 Favorite Movies: {'Fight Club', 'Pulp Fiction', ' Inception', 'The Shawshank Redemption', 'The Dark Knight'}\n",
      "Your Friends 5 Favorite Movies: {'Fight Club', 'Pulp Fiction', 'The Matrix', 'The Lord of the Rings: The Fellowship of the Ring', 'Forrest Gump'}\n",
      "\n",
      "Movies that you and your friends both likes: {'Fight Club', 'Pulp Fiction'}\n",
      "\n",
      "Your favorite movies are 40.0% in common\n",
      "\n"
     ]
    }
   ],
   "source": [
    "setSameMovies = setMovies1.intersection(setMovies2)\n",
    "\n",
    "print('''\n",
    "Your 5 Favorite Movies: {}\n",
    "Your Friends 5 Favorite Movies: {}\n",
    "\n",
    "Movies that you and your friends both likes: {}\n",
    "\n",
    "Your favorite movies are {}% in common\n",
    "'''.format(setMovies1, setMovies2, setSameMovies, ((len(setSameMovies)/len(setMovies1)) * 100)))"
   ]
  }
 ],
 "metadata": {
  "interpreter": {
   "hash": "22f82d992118cd312d8528f284a0c738faceb7899d120a05bd37c4ff6a22205d"
  },
  "kernelspec": {
   "display_name": "Python 3.7.9 64-bit ('base': conda)",
   "name": "python3"
  },
  "language_info": {
   "codemirror_mode": {
    "name": "ipython",
    "version": 3
   },
   "file_extension": ".py",
   "mimetype": "text/x-python",
   "name": "python",
   "nbconvert_exporter": "python",
   "pygments_lexer": "ipython3",
   "version": "3.7.9"
  },
  "orig_nbformat": 4
 },
 "nbformat": 4,
 "nbformat_minor": 2
}
