{
 "cells": [
  {
   "cell_type": "markdown",
   "metadata": {},
   "source": [
    "# List"
   ]
  },
  {
   "cell_type": "code",
   "execution_count": 23,
   "metadata": {},
   "outputs": [],
   "source": [
    "import numpy as np"
   ]
  },
  {
   "cell_type": "code",
   "execution_count": 24,
   "metadata": {},
   "outputs": [],
   "source": [
    "numbers = np.random.randint(100, size=(10))\n",
    "\n",
    "minVal = numbers[0]\n",
    "maxVal = numbers[0]\n",
    "\n",
    "for num in numbers : \n",
    "    if(num < minVal) :\n",
    "        minVal = num\n",
    "    if(num > maxVal) :\n",
    "        maxVal = num"
   ]
  },
  {
   "cell_type": "code",
   "execution_count": 25,
   "metadata": {},
   "outputs": [
    {
     "name": "stdout",
     "output_type": "stream",
     "text": [
      "List Numbers = [ 5 40  1 20  1 94 60 80 23 38]\n",
      "Minimum value = 1\n",
      "Maximum value = 94\n"
     ]
    }
   ],
   "source": [
    "print(\"List Numbers = {}\".format(numbers))\n",
    "print(\"Minimum value = {}\".format(minVal))\n",
    "print(\"Maximum value = {}\".format(maxVal))"
   ]
  }
 ],
 "metadata": {
  "interpreter": {
   "hash": "22f82d992118cd312d8528f284a0c738faceb7899d120a05bd37c4ff6a22205d"
  },
  "kernelspec": {
   "display_name": "Python 3.7.9 64-bit ('base': conda)",
   "name": "python3"
  },
  "language_info": {
   "codemirror_mode": {
    "name": "ipython",
    "version": 3
   },
   "file_extension": ".py",
   "mimetype": "text/x-python",
   "name": "python",
   "nbconvert_exporter": "python",
   "pygments_lexer": "ipython3",
   "version": "3.7.9"
  },
  "orig_nbformat": 4
 },
 "nbformat": 4,
 "nbformat_minor": 2
}
